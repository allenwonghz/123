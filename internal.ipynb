{
 "cells": [
  {
   "cell_type": "markdown",
   "metadata": {
    "collapsed": true
   },
   "source": [
    "### Finding Prime Numbers"
   ]
  },
  {
   "cell_type": "code",
   "execution_count": 4,
   "metadata": {
    "scrolled": false
   },
   "outputs": [
    {
     "name": "stdout",
     "output_type": "stream",
     "text": [
      "[337, 401, 433, 193, 257, 449, 241, 97, 17, 353]\n"
     ]
    }
   ],
   "source": [
    "n = 500\n",
    "allnumbers = sc.parallelize(xrange(2, n), 8).cache()\n",
    "composite = allnumbers.flatMap(lambda x: xrange(x*2, n, x)) \n",
    "#.repartition(8)  by this modification, speed up a lot\n",
    "prime = allnumbers.subtract(composite)\n",
    "print prime.take(10)"
   ]
  },
  {
   "cell_type": "code",
   "execution_count": 2,
   "metadata": {},
   "outputs": [
    {
     "name": "stdout",
     "output_type": "stream",
     "text": [
      "[62499, 62500, 62500, 62500, 62499, 62500, 62500, 62500]\n",
      "[5216986, 254759, 104166, 62499, 0, 0, 0, 0]\n",
      "[0, 5169, 1, 5219, 0, 5206, 0, 5189, 0, 5165, 0, 5199, 0, 5191, 0, 5199]\n",
      "[17, 401537, 462641, 97]\n"
     ]
    }
   ],
   "source": [
    "# Find the number of elements in each parttion\n",
    "def partitionsize(it): \n",
    "    s = 0\n",
    "    for i in it:\n",
    "        s += 1\n",
    "    yield s\n",
    "\n",
    "print allnumbers.mapPartitions(partitionsize).collect()\n",
    "print composite.mapPartitions(partitionsize).collect()\n",
    "print prime.mapPartitions(partitionsize).collect()\n",
    "#### question! why 16 partitions?\n",
    "print prime.glom().collect()[1][0:4]"
   ]
  },
  {
   "cell_type": "markdown",
   "metadata": {},
   "source": [
    "### Data Partitioning"
   ]
  },
  {
   "cell_type": "code",
   "execution_count": 6,
   "metadata": {
    "scrolled": true
   },
   "outputs": [
    {
     "name": "stdout",
     "output_type": "stream",
     "text": [
      "None\n",
      "[[(8, 8)], [(96, 96), (240, 240)], [(400, 400)], [(401, 401), (800, 800)]]\n",
      "[[(8, 8), (96, 96), (400, 400), (240, 240), (800, 800)], [(401, 401)], [], []]\n",
      "<function portable_hash at 0x7fd12809df50>\n",
      "[[(8, 8), (96, 96)], [(240, 240), (400, 400)], [(401, 401)], [(800, 800)]]\n",
      "<function rangePartitioner at 0x7fd12710e140>\n"
     ]
    }
   ],
   "source": [
    "data = [8, 96, 240, 400, 401, 800]\n",
    "rdd = sc.parallelize(zip(data, data),4)\n",
    "print rdd.partitioner\n",
    "print rdd.glom().collect()\n",
    "rdd = rdd.reduceByKey(lambda x,y: x+y)\n",
    "print rdd.glom().collect()\n",
    "print rdd.partitioner.partitionFunc\n",
    "rdd = rdd.sortByKey()\n",
    "print rdd.glom().collect()\n",
    "print rdd.partitioner.partitionFunc"
   ]
  },
  {
   "cell_type": "code",
   "execution_count": 9,
   "metadata": {},
   "outputs": [
    {
     "name": "stdout",
     "output_type": "stream",
     "text": [
      "None\n",
      "<function portable_hash at 0x7fd12809df50>\n",
      "18\n",
      "<function portable_hash at 0x7fd12809df50>\n",
      "[(0, (0, 0)), (2052, (2052, 2052)), (4104, (4104, 4104)), (6156, (6156, 6156))]\n"
     ]
    }
   ],
   "source": [
    "a = sc.parallelize(zip(range(10000), range(10000)), 8)\n",
    "b = sc.parallelize(zip(range(10000), range(10000)), 10)\n",
    "\n",
    "# need one more shuffle because 8 != 10\n",
    "\n",
    "print a.partitioner\n",
    "a = a.reduceByKey(lambda x,y: x+y)\n",
    "print a.partitioner.partitionFunc\n",
    "b = b.reduceByKey(lambda x,y: x+y)\n",
    "c = a.join(b)\n",
    "print c.getNumPartitions()\n",
    "print c.partitioner.partitionFunc\n",
    "print c.glom().first()[0:4]"
   ]
  },
  {
   "cell_type": "code",
   "execution_count": 1,
   "metadata": {},
   "outputs": [
    {
     "name": "stdout",
     "output_type": "stream",
     "text": [
      "+--------+--------+\n",
      "| waybill|customer|\n",
      "+--------+--------+\n",
      "|19598711| 2936210|\n",
      "|27925456| 4714650|\n",
      "|85803846| 9371571|\n",
      "|18161982| 8512119|\n",
      "|68880032| 3555704|\n",
      "|99571604| 7462577|\n",
      "|36117674| 9505447|\n",
      "|90934078| 1242445|\n",
      "|68061416| 9930894|\n",
      "|40538990| 9460875|\n",
      "|55026752| 4493488|\n",
      "|76897685| 2843346|\n",
      "|22700507|  260965|\n",
      "|32475525| 5656885|\n",
      "|41766619| 4803479|\n",
      "|47136640| 8131660|\n",
      "|85889167| 4620277|\n",
      "|99170331| 9619089|\n",
      "|25540635| 7959351|\n",
      "|15121704| 7977025|\n",
      "+--------+--------+\n",
      "only showing top 20 rows\n",
      "\n",
      "63209204\n",
      "+--------+-----+\n",
      "|customer|phone|\n",
      "+--------+-----+\n",
      "|       0|    0|\n",
      "|       1|    1|\n",
      "|       2|    2|\n",
      "|       3|    3|\n",
      "|       4|    4|\n",
      "|       5|    5|\n",
      "|       6|    6|\n",
      "|       7|    7|\n",
      "|       8|    8|\n",
      "|       9|    9|\n",
      "|      10|   10|\n",
      "|      11|   11|\n",
      "|      12|   12|\n",
      "|      13|   13|\n",
      "|      14|   14|\n",
      "|      15|   15|\n",
      "|      16|   16|\n",
      "|      17|   17|\n",
      "|      18|   18|\n",
      "|      19|   19|\n",
      "+--------+-----+\n",
      "only showing top 20 rows\n",
      "\n",
      "10000000\n",
      "+--------+------------+\n",
      "| waybill|max(version)|\n",
      "+--------+------------+\n",
      "|49920425|           5|\n",
      "|47672894|           9|\n",
      "|13436597|           1|\n",
      "|55699455|           3|\n",
      "|71060754|           9|\n",
      "|57668239|           9|\n",
      "|24474721|           5|\n",
      "| 3747982|           9|\n",
      "|15754571|           4|\n",
      "| 1059596|           4|\n",
      "| 8402604|           9|\n",
      "|35730516|           6|\n",
      "|57990249|           8|\n",
      "|71428271|           2|\n",
      "|36630274|           6|\n",
      "|74538215|           9|\n",
      "|44464385|           6|\n",
      "|73120156|           9|\n",
      "| 8754850|           4|\n",
      "|85379722|           3|\n",
      "+--------+------------+\n",
      "only showing top 20 rows\n",
      "\n",
      "63211676\n"
     ]
    }
   ],
   "source": [
    "# A 'real' example from SF Express\n",
    "# Prepare three relational tables\n",
    "\n",
    "from pyspark.sql.functions import *\n",
    "\n",
    "num_waybills = 100000000\n",
    "num_customers = 10000000\n",
    "\n",
    "rdd = sc.parallelize((i, ) for i in xrange(num_waybills))\n",
    "waybills = spark.createDataFrame(rdd).select(floor(rand()*num_waybills).alias('waybill'), \n",
    "                                             floor(rand()*num_customers).alias('customer')) \\\n",
    "                .groupBy('waybill').max('customer').withColumnRenamed('max(customer)','customer')\\\n",
    "                .cache()\n",
    "waybills.show()\n",
    "print waybills.count()\n",
    "\n",
    "rdd = sc.parallelize((i, i) for i in xrange(num_customers))\n",
    "customers = spark.createDataFrame(rdd, ['customer', 'phone']).cache()\n",
    "customers.show()\n",
    "print customers.count()\n",
    "\n",
    "rdd = sc.parallelize((i, ) for i in xrange(num_waybills))\n",
    "waybill_status = spark.createDataFrame(rdd).select(floor(rand()*num_waybills).alias('waybill'), \n",
    "                                                   floor(rand()*10).alias('version')) \\\n",
    "                      .groupBy('waybill').max('version').cache()\n",
    "waybill_status.show()\n",
    "print waybill_status.count()"
   ]
  },
  {
   "cell_type": "code",
   "execution_count": 12,
   "metadata": {},
   "outputs": [
    {
     "name": "stdout",
     "output_type": "stream",
     "text": [
      "+--------+--------+------------+-----+\n",
      "|customer| waybill|max(version)|phone|\n",
      "+--------+--------+------------+-----+\n",
      "|      29|14165698|           4|   29|\n",
      "|      29|60096983|           4|   29|\n",
      "|      29|49797517|           3|   29|\n",
      "|     474|84204623|           4|  474|\n",
      "|     964|23818017|           9|  964|\n",
      "|     964|43141845|           0|  964|\n",
      "|    1677| 2290942|           9| 1677|\n",
      "|    1677|65944458|           2| 1677|\n",
      "|    1677|47044996|           0| 1677|\n",
      "|    1697|18844362|           3| 1697|\n",
      "|    1697|73575919|           1| 1697|\n",
      "|    1697|23137131|           7| 1697|\n",
      "|    1806|35814782|           4| 1806|\n",
      "|    1950|75470717|           9| 1950|\n",
      "|    1950|83194159|           9| 1950|\n",
      "|    1950|47200019|           5| 1950|\n",
      "|    1950|43998641|           8| 1950|\n",
      "|    1950|32856212|           6| 1950|\n",
      "|    2214|29679632|           6| 2214|\n",
      "|    2214|32706152|           8| 2214|\n",
      "+--------+--------+------------+-----+\n",
      "only showing top 20 rows\n",
      "\n"
     ]
    }
   ],
   "source": [
    "# We want to join 3 tables together.\n",
    "# Knowing how each table is partitioned helps optimize the join order.\n",
    "\n",
    "# waybills.join(customers, 'customer').join(waybill_status, 'waybill').show()\n",
    "waybills.join(waybill_status, 'waybill').join(customers, 'customer').show()\n",
    "\n",
    "# the second way is more efficient. because of co-partition."
   ]
  },
  {
   "cell_type": "code",
   "execution_count": 14,
   "metadata": {},
   "outputs": [
    {
     "data": {
      "text/plain": [
       "[312500, 312500, 312500, 312500, 312500, 312500, 312500, 312500]"
      ]
     },
     "execution_count": 14,
     "metadata": {},
     "output_type": "execute_result"
    }
   ],
   "source": [
    "def partitionsize(it): yield len(list(it))\n",
    "    \n",
    "n = 40000000\n",
    "\n",
    "def f(x):\n",
    "    return x / (n/8)\n",
    "\n",
    "data1 = range(0, n, 16) + range(0, n, 16)\n",
    "data2 = range(0, n, 8)\n",
    "rdd1 = sc.parallelize(zip(data1, data2), 8)\n",
    "rdd1 = rdd1.partitionBy(8, f)\n",
    "rdd2 = rdd1.reduceByKey(lambda x,y: x+y, partitionFunc=f)\n",
    "# rdd2 = rdd1.reduceByKey(lambda x,y: x+y)\n",
    "rdd2.mapPartitions(partitionsize).collect()"
   ]
  },
  {
   "cell_type": "markdown",
   "metadata": {},
   "source": [
    "### Partitioning in DataFrames"
   ]
  },
  {
   "cell_type": "code",
   "execution_count": 1,
   "metadata": {},
   "outputs": [
    {
     "name": "stdout",
     "output_type": "stream",
     "text": [
      "8\n",
      "[[Row(_1=1, _2=2)], [Row(_1=1, _2=2)], [Row(_1=1, _2=3)], [Row(_1=2, _2=4), Row(_1=2, _2=5)], [Row(_1=2, _2=3)], [Row(_1=3, _2=1)], [Row(_1=3, _2=1)], [Row(_1=3, _2=2), Row(_1=4, _2=3)]]\n"
     ]
    }
   ],
   "source": [
    "data1 = [1, 1, 1, 2, 2, 2, 3, 3, 3, 4]\n",
    "data2 = [2, 2, 3, 4, 5, 3, 1, 1, 2, 3]\n",
    "df = spark.createDataFrame(zip(data1, data2))\n",
    "print df.rdd.getNumPartitions()\n",
    "print df.rdd.glom().collect()"
   ]
  },
  {
   "cell_type": "code",
   "execution_count": 2,
   "metadata": {},
   "outputs": [
    {
     "name": "stdout",
     "output_type": "stream",
     "text": [
      "[[], [], [Row(_1=1, _2=2), Row(_1=1, _2=2), Row(_1=2, _2=4), Row(_1=2, _2=5), Row(_1=3, _2=2)], [Row(_1=1, _2=3), Row(_1=2, _2=3), Row(_1=4, _2=3)], [], [Row(_1=3, _2=1), Row(_1=3, _2=1)]]\n",
      "+---+---+\n",
      "| _1| _2|\n",
      "+---+---+\n",
      "|  1|  2|\n",
      "|  1|  2|\n",
      "|  2|  4|\n",
      "|  2|  5|\n",
      "|  3|  2|\n",
      "|  1|  3|\n",
      "|  2|  3|\n",
      "|  4|  3|\n",
      "|  3|  1|\n",
      "|  3|  1|\n",
      "+---+---+\n",
      "\n"
     ]
    }
   ],
   "source": [
    "df1 = df.repartition(6, df._2)\n",
    "print df1.rdd.glom().collect()\n",
    "df1.show()"
   ]
  },
  {
   "cell_type": "markdown",
   "metadata": {},
   "source": [
    "### Threading"
   ]
  },
  {
   "cell_type": "code",
   "execution_count": 16,
   "metadata": {},
   "outputs": [
    {
     "name": "stdout",
     "output_type": "stream",
     "text": [
      "Worker 1 reports: Pi is roughly 3.1415736\n",
      "Worker 0 reports: Pi is roughly 3.14156124\n",
      "Worker 3 reports: Pi is roughly 3.14157024\n",
      "Worker 2 reports: Pi is roughly 3.14157354\n",
      "Worker 4 reports: Pi is roughly 3.14154802\n"
     ]
    },
    {
     "data": {
      "text/plain": [
       "\n",
       "for i in range(5):\n",
       "    dojob(i)\n"
      ]
     },
     "execution_count": 16,
     "metadata": {},
     "output_type": "execute_result"
    }
   ],
   "source": [
    "import threading\n",
    "import random\n",
    "\n",
    "partitions = 40\n",
    "n = 5000000 * partitions\n",
    "\n",
    "# use different seeds in different threads and different partitions\n",
    "# a bit ugly, since mapPartitionsWithIndex takes a function with only index\n",
    "# and it as parameters\n",
    "def f1(index, it):\n",
    "    random.seed(index + 987231)\n",
    "    for i in it:\n",
    "        x = random.random() * 2 - 1\n",
    "        y = random.random() * 2 - 1\n",
    "        yield 1 if x ** 2 + y ** 2 < 1 else 0\n",
    "\n",
    "def f2(index, it):\n",
    "    random.seed(index + 987232)\n",
    "    for i in it:\n",
    "        x = random.random() * 2 - 1\n",
    "        y = random.random() * 2 - 1\n",
    "        yield 1 if x ** 2 + y ** 2 < 1 else 0\n",
    "\n",
    "def f3(index, it):\n",
    "    random.seed(index + 987233)\n",
    "    for i in it:\n",
    "        x = random.random() * 2 - 1\n",
    "        y = random.random() * 2 - 1\n",
    "        yield 1 if x ** 2 + y ** 2 < 1 else 0\n",
    "    \n",
    "def f4(index, it):\n",
    "    random.seed(index + 987234)\n",
    "    for i in it:\n",
    "        x = random.random() * 2 - 1\n",
    "        y = random.random() * 2 - 1\n",
    "        yield 1 if x ** 2 + y ** 2 < 1 else 0\n",
    "    \n",
    "def f5(index, it):\n",
    "    random.seed(index + 987245)\n",
    "    for i in it:\n",
    "        x = random.random() * 2 - 1\n",
    "        y = random.random() * 2 - 1\n",
    "        yield 1 if x ** 2 + y ** 2 < 1 else 0\n",
    "\n",
    "f = [f1, f2, f3, f4, f5]\n",
    "    \n",
    "# the function executed in each thread/job\n",
    "def dojob(i):\n",
    "    count = sc.parallelize(xrange(1, n + 1), partitions) \\\n",
    "              .mapPartitionsWithIndex(f[i]).reduce(lambda a,b: a+b)\n",
    "    print \"Worker\", i, \"reports: Pi is roughly\", 4.0 * count / n\n",
    "\n",
    "# create and execute the threads\n",
    "threads = []\n",
    "for i in range(5):\n",
    "    t = threading.Thread(target=dojob, args=(i,))\n",
    "    threads += [t]\n",
    "    t.start()\n",
    "\n",
    "# wait for all threads to complete\n",
    "for t in threads:\n",
    "    t.join()    \n",
    "'''\n",
    "for i in range(5):\n",
    "    dojob(i)\n",
    "'''"
   ]
  },
  {
   "cell_type": "code",
   "execution_count": null,
   "metadata": {
    "collapsed": true
   },
   "outputs": [],
   "source": []
  },
  {
   "cell_type": "code",
   "execution_count": null,
   "metadata": {
    "collapsed": true
   },
   "outputs": [],
   "source": []
  }
 ],
 "metadata": {
  "kernelspec": {
   "display_name": "Apache Toree - PySpark",
   "language": "python",
   "name": "apache_toree_pyspark"
  },
  "language_info": {
   "file_extension": ".py",
   "name": "python",
   "pygments_lexer": "python",
   "version": "2.7.13\n"
  }
 },
 "nbformat": 4,
 "nbformat_minor": 1
}
