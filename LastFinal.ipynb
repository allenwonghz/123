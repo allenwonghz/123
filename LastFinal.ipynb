{
 "cells": [
  {
   "cell_type": "markdown",
   "metadata": {},
   "source": [
    "## Question 1\n",
    "Find the 10 most frequent adjective-noun pairs in adj_noun_pairs.txt. The code skeleton is given below and you can only use RDD operations.\n",
    "\n",
    "Data can be downloaded at http://www.cse.ust.hk/msbd5003/data/adj_noun_pairs.txt\n",
    "\n"
   ]
  },
  {
   "cell_type": "code",
   "execution_count": 38,
   "metadata": {},
   "outputs": [
    {
     "data": {
      "text/plain": [
       "[((u'external', u'link'), 8136), ((u'19th', u'century'), 2869), ((u'20th', u'century'), 2816), ((u'same', u'time'), 2744), ((u'first', u'time'), 2632), ((u'civil', u'war'), 2236), ((u'large', u'number'), 2094), ((u'other', u'hand'), 2043), ((u'political', u'party'), 1899), ((u'other', u'country'), 1857)]"
      ]
     },
     "execution_count": 38,
     "metadata": {},
     "output_type": "execute_result"
    }
   ],
   "source": [
    "numPartitions = 10\n",
    "lines = sc.textFile('./data/adj_noun_pairs.txt', numPartitions)\n",
    "pairs = lines.map(lambda l: tuple(l.split())).filter(lambda p: len(p)==2)\n",
    "pairs.cache()\n",
    "\n",
    "#FILL IN YOUR CODE HERE\n",
    "pair_freqs = pairs.map(lambda p: (p,1)).reduceByKey(lambda f1, f2: f1 + f2) \n",
    "                #  .filter(lambda pf: pf[1] >= 100)\n",
    "pair_freqs.sortBy(lambda x: x[1], False).take(10)"
   ]
  },
  {
   "cell_type": "code",
   "execution_count": 39,
   "metadata": {},
   "outputs": [
    {
     "name": "stdout",
     "output_type": "stream",
     "text": [
      "[(u'external link', 8136), (u'19th century', 2869), (u'20th century', 2816), (u'same time', 2744), (u'first time', 2632), (u'civil war', 2236), (u'large number', 2094), (u'other hand', 2043), (u'political party', 1899), (u'other country', 1857)]\n"
     ]
    }
   ],
   "source": [
    "#sample\n",
    "result = pairs.map(lambda (a,n): (a+' '+n, 1)).reduceByKey(lambda a,b: a+b).sortBy(lambda x: x[1], ascending = False)\n",
    "print result.take(10)"
   ]
  },
  {
   "cell_type": "markdown",
   "metadata": {},
   "source": [
    "## Question 2\n",
    "\n",
    "In the example relational database used in the lectures, each customer is served by a salesperson, which is recorded in the \"SalesPerson\" column in the \"Customer\" table (see the database schema below).\n",
    "\n",
    "Use DataFrame API to generate a report of each salesperson's performance, which is the total net price of his/her customer's orders.  Note that the an order consists of multiple order details, and the net price of an order detail is UnitPrice * OrderQty * (1 - UnitPriceDiscount).\n",
    "\n",
    "All salespeople should be reported, even if they have 0 order.\n",
    "\n",
    "Data can be downloaded here:\n",
    "\n",
    "http://www.cse.ust.hk/msbd5003/data/Customer.csv\n",
    "\n",
    "http://www.cse.ust.hk/msbd5003/data/SalesOrderDetail.csv\n",
    "\n",
    "http://www.cse.ust.hk/msbd5003/data/SalesOrderHeader.csv"
   ]
  },
  {
   "cell_type": "code",
   "execution_count": 33,
   "metadata": {
    "collapsed": true
   },
   "outputs": [],
   "source": [
    "dfCustomer = spark.read.csv('./data/Customer.csv', header=True, inferSchema=True)\n",
    "dfDetail = spark.read.csv('./data/SalesOrderDetail.csv', header=True, inferSchema=True)\n",
    "dfHeader = spark.read.csv('./data/SalesOrderHeader.csv', header=True, inferSchema=True)\n",
    "\n",
    "#FILL IN YOUR CODE HERE"
   ]
  },
  {
   "cell_type": "code",
   "execution_count": 34,
   "metadata": {},
   "outputs": [
    {
     "name": "stdout",
     "output_type": "stream",
     "text": [
      "root\n",
      " |-- CustomerID: integer (nullable = true)\n",
      " |-- NameStyle: integer (nullable = true)\n",
      " |-- Title: string (nullable = true)\n",
      " |-- FirstName: string (nullable = true)\n",
      " |-- MiddleName: string (nullable = true)\n",
      " |-- LastName: string (nullable = true)\n",
      " |-- Suffix: string (nullable = true)\n",
      " |-- CompanyName: string (nullable = true)\n",
      " |-- SalesPerson: string (nullable = true)\n",
      " |-- EmailAddress: string (nullable = true)\n",
      " |-- Phone: string (nullable = true)\n",
      " |-- PasswordHash: string (nullable = true)\n",
      " |-- PasswordSalt: string (nullable = true)\n",
      " |-- rowguid: string (nullable = true)\n",
      " |-- ModifiedDate: timestamp (nullable = true)\n",
      "\n",
      "root\n",
      " |-- SalesOrderID: integer (nullable = true)\n",
      " |-- SalesOrderDetailID: integer (nullable = true)\n",
      " |-- OrderQty: integer (nullable = true)\n",
      " |-- ProductID: integer (nullable = true)\n",
      " |-- UnitPrice: double (nullable = true)\n",
      " |-- UnitPriceDiscount: double (nullable = true)\n",
      " |-- LineTotal: double (nullable = true)\n",
      " |-- rowguid: string (nullable = true)\n",
      " |-- ModifiedDate: timestamp (nullable = true)\n",
      "\n",
      "root\n",
      " |-- SalesOrderID: integer (nullable = true)\n",
      " |-- RevisionNumber: integer (nullable = true)\n",
      " |-- OrderDate: timestamp (nullable = true)\n",
      " |-- DueDate: timestamp (nullable = true)\n",
      " |-- ShipDate: timestamp (nullable = true)\n",
      " |-- Status: integer (nullable = true)\n",
      " |-- OnlineOrderFlag: integer (nullable = true)\n",
      " |-- SalesOrderNumber: string (nullable = true)\n",
      " |-- PurchaseOrderNumber: string (nullable = true)\n",
      " |-- AccountNumber: string (nullable = true)\n",
      " |-- CustomerID: integer (nullable = true)\n",
      " |-- ShipToAddressID: integer (nullable = true)\n",
      " |-- BillToAddressID: integer (nullable = true)\n",
      " |-- ShipMethod: string (nullable = true)\n",
      " |-- CreditCardApprovalCode: string (nullable = true)\n",
      " |-- SubTotal: double (nullable = true)\n",
      " |-- TaxAmt: double (nullable = true)\n",
      " |-- Freight: double (nullable = true)\n",
      " |-- TotalDue: double (nullable = true)\n",
      " |-- Comment: string (nullable = true)\n",
      " |-- rowguid: string (nullable = true)\n",
      " |-- ModifiedDate: timestamp (nullable = true)\n",
      "\n"
     ]
    }
   ],
   "source": [
    "dfCustomer.printSchema()\n",
    "dfDetail.printSchema()\n",
    "dfHeader.printSchema()"
   ]
  },
  {
   "cell_type": "code",
   "execution_count": 36,
   "metadata": {},
   "outputs": [
    {
     "name": "stdout",
     "output_type": "stream",
     "text": [
      "+------------------------+------------------+\n",
      "|SalesPerson             |TotalNetPrice     |\n",
      "+------------------------+------------------+\n",
      "|adventure-works\\jae0    |425979.1086639994 |\n",
      "|adventure-works\\linda3  |170064.83797000017|\n",
      "|adventure-works\\shu0    |112646.20642400002|\n",
      "|adventure-works\\david8  |0.0               |\n",
      "|adventure-works\\pamela0 |0.0               |\n",
      "|adventure-works\\michael9|0.0               |\n",
      "|adventure-works\\garrett1|0.0               |\n",
      "|adventure-works\\josé1   |0.0               |\n",
      "|adventure-works\\jillian0|0.0               |\n",
      "+------------------------+------------------+\n",
      "\n"
     ]
    }
   ],
   "source": [
    "#join\n",
    "\n",
    "dfsale = dfCustomer.join(dfHeader, 'CustomerID','left_outer') \\\n",
    "                   .select('CustomerID', 'SalesPerson', 'SalesOrderID')\n",
    "dffinal = dfsale.join(dfDetail, 'SalesOrderID','left_outer') \\\n",
    "                .select('CustomerID', 'SalesPerson', 'SalesOrderID', 'UnitPrice', 'OrderQty', 'UnitPriceDiscount')\n",
    "result = dffinal.select('*', (dffinal.UnitPrice * dffinal. OrderQty\n",
    "                      * (1 - dffinal.UnitPriceDiscount)).alias('netprice')) \\\n",
    "       .groupby('SalesPerson').sum('netprice') \\\n",
    "       .withColumnRenamed('sum(netprice)', 'TotalNetPrice').na.fill(0)\n",
    "result.orderBy('TotalNetPrice', ascending=False).show(truncate = False)"
   ]
  },
  {
   "cell_type": "code",
   "execution_count": 35,
   "metadata": {},
   "outputs": [
    {
     "name": "stdout",
     "output_type": "stream",
     "text": [
      "+------------------------+------------------+\n",
      "|salesPerson             |sum(TotalPrice)   |\n",
      "+------------------------+------------------+\n",
      "|adventure-works\\jae0    |425979.108664     |\n",
      "|adventure-works\\linda3  |170064.83797000002|\n",
      "|adventure-works\\shu0    |112646.20642399997|\n",
      "|adventure-works\\pamela0 |0.0               |\n",
      "|adventure-works\\jillian0|0.0               |\n",
      "|adventure-works\\david8  |0.0               |\n",
      "|adventure-works\\garrett1|0.0               |\n",
      "|adventure-works\\michael9|0.0               |\n",
      "|adventure-works\\josé1   |0.0               |\n",
      "+------------------------+------------------+\n",
      "\n"
     ]
    }
   ],
   "source": [
    "# sample solution\n",
    "#Calculate net price for each order\n",
    "orders = dfDetail.select('*', (dfDetail.UnitPrice * dfDetail.OrderQty\n",
    " * (1 - dfDetail.UnitPriceDiscount)).alias('netprice'))\\\n",
    " .groupBy('SalesOrderID').sum('netprice') \\\n",
    " .withColumnRenamed('sum(netprice)', 'TotalPrice')\n",
    "#Three tables join\n",
    "result = dfCustomer.join(dfHeader, 'CustomerID','left_outer').join(orders,'SalesOrderID','left_outer').groupBy('salesPerson').sum('TotalPrice').na.fill(0)\n",
    "result.orderBy('sum(TotalPrice)', ascending=False).show(truncate = False)"
   ]
  },
  {
   "cell_type": "markdown",
   "metadata": {},
   "source": [
    "##  Question 3\n",
    "In social networks, \"zombies\" are users that follow many other users, but are not followed by anybody. Given the following graph representing a social network, find the name of the largest zombie, i.e., the user who follows the most other users but is not followed by anybody. \n",
    "\n"
   ]
  },
  {
   "cell_type": "code",
   "execution_count": 1,
   "metadata": {
    "collapsed": true
   },
   "outputs": [],
   "source": [
    "sc.addPyFile(\"/Users/allenwong/graphframes-0.5.0-spark2.1-s_2.11.jar\")"
   ]
  },
  {
   "cell_type": "code",
   "execution_count": 23,
   "metadata": {
    "collapsed": true
   },
   "outputs": [],
   "source": [
    "from graphframes import *\n",
    "\n",
    "# Vertices DataFrame\n",
    "v = spark.createDataFrame([\n",
    " (\"a\", \"Alice\", 34),\n",
    " (\"b\", \"Bob\", 36),\n",
    " (\"c\", \"Charlie\", 37),\n",
    " (\"d\", \"David\", 29),\n",
    " (\"e\", \"Esther\", 32),\n",
    " (\"f\", \"Fanny\", 38),\n",
    " (\"g\", \"Gabby\", 60)\n",
    "], [\"id\", \"name\", \"age\"])\n",
    "\n",
    "# Edges DataFrame\n",
    "e = spark.createDataFrame([\n",
    " (\"a\", \"b\", \"follow\"),\n",
    " (\"c\", \"a\", \"friend\"),\n",
    " (\"b\", \"c\", \"follow\"),\n",
    " (\"d\", \"a\", \"follow\"),\n",
    " (\"f\", \"c\", \"follow\"),\n",
    " (\"f\", \"d\", \"follow\"),\n",
    " (\"f\", \"b\", \"follow\"),\n",
    " (\"c\", \"d\", \"follow\"),\n",
    " (\"g\", \"a\", \"friend\"),\n",
    " (\"g\", \"d\", \"friend\"),\n",
    " (\"g\", \"c\", \"friend\"),\n",
    " (\"e\", \"a\", \"follow\"),\n",
    " (\"e\", \"d\", \"follow\")\n",
    "], [\"src\", \"dst\", \"relationship\"])\n",
    "# Create a GraphFrame\n",
    "g = GraphFrame(v, e)\n",
    "\n",
    "# FILL IN YOUR CODE HERE"
   ]
  },
  {
   "cell_type": "code",
   "execution_count": 3,
   "metadata": {},
   "outputs": [
    {
     "name": "stdout",
     "output_type": "stream",
     "text": [
      "+--------------+------------+--------------+\n",
      "|           src|        edge|           dst|\n",
      "+--------------+------------+--------------+\n",
      "|  [g,Gabby,60]|[g,d,friend]|  [d,David,29]|\n",
      "|  [f,Fanny,38]|[f,d,follow]|  [d,David,29]|\n",
      "| [e,Esther,32]|[e,d,follow]|  [d,David,29]|\n",
      "|[c,Charlie,37]|[c,d,follow]|  [d,David,29]|\n",
      "|  [g,Gabby,60]|[g,c,friend]|[c,Charlie,37]|\n",
      "|  [f,Fanny,38]|[f,c,follow]|[c,Charlie,37]|\n",
      "|    [b,Bob,36]|[b,c,follow]|[c,Charlie,37]|\n",
      "|  [f,Fanny,38]|[f,b,follow]|    [b,Bob,36]|\n",
      "|  [a,Alice,34]|[a,b,follow]|    [b,Bob,36]|\n",
      "|  [g,Gabby,60]|[g,a,friend]|  [a,Alice,34]|\n",
      "| [e,Esther,32]|[e,a,follow]|  [a,Alice,34]|\n",
      "|  [d,David,29]|[d,a,follow]|  [a,Alice,34]|\n",
      "|[c,Charlie,37]|[c,a,friend]|  [a,Alice,34]|\n",
      "+--------------+------------+--------------+\n",
      "\n"
     ]
    }
   ],
   "source": [
    "g.triplets.show()"
   ]
  },
  {
   "cell_type": "code",
   "execution_count": 49,
   "metadata": {},
   "outputs": [
    {
     "name": "stdout",
     "output_type": "stream",
     "text": [
      "+---+--------+\n",
      "| id|inDegree|\n",
      "+---+--------+\n",
      "|  d|       4|\n",
      "|  c|       3|\n",
      "|  b|       2|\n",
      "|  a|       4|\n",
      "+---+--------+\n",
      "\n"
     ]
    }
   ],
   "source": [
    "g.inDegrees.show()"
   ]
  },
  {
   "cell_type": "code",
   "execution_count": 70,
   "metadata": {},
   "outputs": [
    {
     "name": "stdout",
     "output_type": "stream",
     "text": [
      "+--------------+\n",
      "|max(outDegree)|\n",
      "+--------------+\n",
      "|             3|\n",
      "+--------------+\n",
      "\n"
     ]
    }
   ],
   "source": [
    "g.outDegrees.agg({\"outDegree\": \"max\"}).show()"
   ]
  },
  {
   "cell_type": "code",
   "execution_count": 62,
   "metadata": {},
   "outputs": [
    {
     "name": "stdout",
     "output_type": "stream",
     "text": [
      "+---+------+---+---------+--------+\n",
      "| id|  name|age|outDegree|inDegree|\n",
      "+---+------+---+---------+--------+\n",
      "|  g| Gabby| 60|        3|    null|\n",
      "|  f| Fanny| 38|        3|    null|\n",
      "|  e|Esther| 32|        2|    null|\n",
      "+---+------+---+---------+--------+\n",
      "\n"
     ]
    }
   ],
   "source": [
    "g.vertices.join(g.outDegrees, 'id') \\\n",
    "          .join(g.inDegrees, 'id', 'left_outer').filter('inDegree is null').show()"
   ]
  },
  {
   "cell_type": "code",
   "execution_count": 31,
   "metadata": {},
   "outputs": [
    {
     "name": "stdout",
     "output_type": "stream",
     "text": [
      "+---+-----+---+\n",
      "| id| name|age|\n",
      "+---+-----+---+\n",
      "|  f|Fanny| 38|\n",
      "+---+-----+---+\n",
      "\n"
     ]
    }
   ],
   "source": [
    "# sample solution\n",
    "e1 = g.edges.filter(\"relationship = 'follow'\")\n",
    "v1 = e1.groupBy('dst').count().select('dst')\n",
    "v2 = e1.groupBy('src').count().orderBy('count', ascending=False)\n",
    "v3 = v2.select('src').subtract(v1.select('dst'))\n",
    "v4 = v3.join(v2,'src').first()\n",
    "v.filter(v['id']==v4.src).show()"
   ]
  },
  {
   "cell_type": "code",
   "execution_count": 30,
   "metadata": {},
   "outputs": [
    {
     "name": "stdout",
     "output_type": "stream",
     "text": [
      "+---+-----+\n",
      "|src|count|\n",
      "+---+-----+\n",
      "|  f|    3|\n",
      "|  e|    2|\n",
      "+---+-----+\n",
      "\n"
     ]
    }
   ],
   "source": [
    "v4.show()"
   ]
  },
  {
   "cell_type": "code",
   "execution_count": null,
   "metadata": {
    "collapsed": true
   },
   "outputs": [],
   "source": []
  }
 ],
 "metadata": {
  "kernelspec": {
   "display_name": "Apache Toree - PySpark",
   "language": "python",
   "name": "apache_toree_pyspark"
  },
  "language_info": {
   "file_extension": ".py",
   "name": "python",
   "pygments_lexer": "python",
   "version": "2.7.13\n"
  }
 },
 "nbformat": 4,
 "nbformat_minor": 2
}
