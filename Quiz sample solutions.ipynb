{
 "cells": [
  {
   "cell_type": "markdown",
   "metadata": {},
   "source": [
    "### quiz1\n",
    "1. Add one line to find the most frequent word. Output this word and its frequency."
   ]
  },
  {
   "cell_type": "code",
   "execution_count": null,
   "metadata": {
    "collapsed": true
   },
   "outputs": [],
   "source": [
    "from operator import add\n",
    "lines = sc.textFile('README.md')\n",
    "counts = lines.flatMap(lambda x: x.split()) \\\n",
    "              .map(lambda x: (x, 1)) \\\n",
    "              .reduceByKey(add)\n",
    "\n",
    "#1  not good \n",
    "print counts.sortBy(lambda (w, c): c, False).first()\n",
    "#2\n",
    "print counts.reduce(lambda (w1, c1), (w2, c2): (w1, c1) if c1>c2 else (w2, c2))\n",
    "#3\n",
    "print counts.max(lambda x: x[1])"
   ]
  },
  {
   "cell_type": "markdown",
   "metadata": {},
   "source": [
    "2 Modify the word count example above, so that we only count the frequencies of those words consisting of 5 or more characters.\n"
   ]
  },
  {
   "cell_type": "code",
   "execution_count": null,
   "metadata": {
    "collapsed": true
   },
   "outputs": [],
   "source": [
    "from operator import add\n",
    "lines = sc.textFile('README.md')\n",
    "counts = lines.flatMap(lambda x: x.split()) \\\n",
    "              .filter(lambda x: len(x) >= 5) \\\n",
    "              .map(lambda x: (x, 1)) \\\n",
    "              .reduceByKey(add)"
   ]
  },
  {
   "cell_type": "markdown",
   "metadata": {},
   "source": [
    "4 The intent of the code above is to get all numbers below 50 from A and put them into B, and then get all numbers above 10 from B and put them into C.  Fix the code so that it produces the desired behavior, by adding one line of code.  You are not allowed to change the existing code."
   ]
  },
  {
   "cell_type": "markdown",
   "metadata": {},
   "source": [
    "### quiz3\n",
    "6 Rewrite the PageRank example using DataFrame API.  Here is a skeleton of the code.  Your job is to fill in the missing part."
   ]
  },
  {
   "cell_type": "code",
   "execution_count": null,
   "metadata": {
    "collapsed": true
   },
   "outputs": [],
   "source": [
    "from pyspark.sql.functions import *\n",
    "\n",
    "numOfIterations = 10\n",
    "\n",
    "lines = spark.read.text(\"wasb://cluster@msbd.blob.core.windows.net/data/pagerank_data.txt\")\n",
    "# You can also test your program on the follow larger data set:\n",
    "# lines = spark.read.text(\"wasb://cluster@msbd.blob.core.windows.net/data/dblp.in\")\n",
    "\n",
    "a = lines.select(split(lines[0],' '))\n",
    "links = a.select(a[0][0].alias('src'), a[0][1].alias('dst'))\n",
    "outdegrees = links.groupBy('src').count()\n",
    "ranks = outdegrees.select('src', lit(1).alias('rank'))\n",
    "\n",
    "for iteration in range(numOfIterations):\n",
    "# FILL IN THIS PART\n",
    "ranks = ranks.join(outdegrees, 'src').join(links, 'src') \\\n",
    ".select('dst', (col('rank')/col('count')).alias('irank')) \\\n",
    ".withColumnRenamed('dst', 'dst').groupBy('dst') \\\n",
    ".sum('irank').withColumnRenamed('sum(irank)', 'totalrank') \\\n",
    ".select('dst', (col('totalrank') * 0.85 + 0.15).alias('rank')) \\\n",
    ".withColumnRenamed('dst', 'src')\n",
    "\n",
    "#sample\n",
    "contribs = links.join(ranks, 'src').join(outdegrees, 'src') \\\n",
    " .select(col('dst').alias('src'), (ranks['rank']/outdegrees['count']).alias('contrib'))\n",
    "ranks = contribs.groupBy('src').sum('contrib') \\\n",
    " .select('src', (column('sum(contrib)')*0.85+0.15).alias('rank'))\n",
    "\n",
    "ranks.orderBy(desc('rank')).show()"
   ]
  },
  {
   "cell_type": "markdown",
   "metadata": {},
   "source": [
    "### quiz 4\n",
    "Question 4 \n",
    "Find all people who follow Charlie.\n",
    "Hint: Use AND in SQL, or (..) & (..) in DataFrame boolean expressions."
   ]
  },
  {
   "cell_type": "code",
   "execution_count": null,
   "metadata": {
    "collapsed": true
   },
   "outputs": [],
   "source": [
    "g.find(\"(a)-[e]->(b)\").filter(\"e.relationship = 'follow' AND b.name = 'Charlie'\").select('a.name').show()\n",
    "OR\n",
    "df = g.find(\"(a)-[e]->(b)\")\n",
    "df.filter((df['e.relationship'] == 'follow') & (df['b.name'] == 'Charlie')).select('a.name').show()"
   ]
  },
  {
   "cell_type": "markdown",
   "metadata": {},
   "source": [
    "5 Find all people who are being followed by at least 2 people.\n"
   ]
  },
  {
   "cell_type": "code",
   "execution_count": null,
   "metadata": {
    "collapsed": true
   },
   "outputs": [],
   "source": [
    "g.find('()-[e]->(a)').filter('e.relationship=\"follow\"').groupBy('a').count()\\\n",
    ".filter('count>=2').select('a.name').show()\n",
    "OR\n",
    "g.edges.filter(\"relationship = 'follow'\").groupby('dst').count().filter(\"count >= 2\").\\\n",
    "join(g.vertices, g.edges['dst'] == g.vertices['id']).select('name').show()"
   ]
  }
 ],
 "metadata": {
  "kernelspec": {
   "display_name": "Apache Toree - PySpark",
   "language": "python",
   "name": "apache_toree_pyspark"
  },
  "language_info": {
   "file_extension": ".py",
   "name": "python",
   "pygments_lexer": "python",
   "version": "2.7.13\n"
  }
 },
 "nbformat": 4,
 "nbformat_minor": 2
}
